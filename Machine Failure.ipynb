{
 "cells": [
  {
   "cell_type": "markdown",
   "id": "bbf90a72-60e4-425a-b65e-42855b4a8607",
   "metadata": {},
   "source": [
    "# Predicting Machine Failure:"
   ]
  },
  {
   "cell_type": "code",
   "execution_count": 1,
   "id": "5b085112-cda7-4a10-bd1b-e5f05bcb4df1",
   "metadata": {
    "jupyter": {
     "source_hidden": true
    }
   },
   "outputs": [],
   "source": [
    "# Import Libraries\n",
    "import matplotlib.pyplot as plt\n",
    "import seaborn as sns\n",
    "from sklearn.metrics import confusion_matrix, roc_curve, classification_report, precision_recall_curve, auc, accuracy_score, precision_score, recall_score, f1_score\n",
    "import ipywidgets as widgets\n",
    "from ipywidgets import interact\n",
    "import pandas as pd\n",
    "from imblearn.over_sampling import SMOTE\n",
    "from sklearn.ensemble import RandomForestClassifier, AdaBoostClassifier\n",
    "from sklearn.linear_model import LogisticRegression\n",
    "from xgboost import XGBClassifier\n",
    "from sklearn.svm import SVC\n",
    "from sklearn.neighbors import KNeighborsClassifier\n",
    "from sklearn.naive_bayes import GaussianNB\n",
    "from sklearn.neural_network import MLPClassifier\n",
    "from sklearn.model_selection import StratifiedShuffleSplit, GridSearchCV\n",
    "from sklearn.preprocessing import LabelEncoder\n",
    "import warnings\n",
    "import shap\n",
    "\n",
    "warnings.filterwarnings('ignore')"
   ]
  },
  {
   "cell_type": "code",
   "execution_count": 2,
   "id": "657275c3-6b90-4e5e-bf33-b5f5919edbc1",
   "metadata": {
    "jupyter": {
     "source_hidden": true
    }
   },
   "outputs": [],
   "source": [
    "# Load the preprocessed data\n",
    "data = pd.read_csv('Preprocessed_Data.csv')\n",
    "\n",
    "# Rename columns to remove special characters\n",
    "data.rename(columns={\n",
    "    'Air temperature [K]': 'Air_temperature_K',\n",
    "    'Process temperature [K]': 'Process_temperature_K',\n",
    "    'Rotational speed [rpm]': 'Rotational_speed_rpm',\n",
    "    'Torque [Nm]': 'Torque_Nm',\n",
    "    'Tool wear [min]': 'Tool_wear_min'\n",
    "}, inplace=True)\n",
    "\n",
    "# Define features and target\n",
    "X = data[['Type', 'Air_temperature_K', 'Process_temperature_K', 'Rotational_speed_rpm', 'Torque_Nm', 'Tool_wear_min']]\n",
    "y = data['Machine failure']"
   ]
  },
  {
   "cell_type": "code",
   "execution_count": 3,
   "id": "ac5520d3-a664-4373-829c-c7705bb085f7",
   "metadata": {
    "jupyter": {
     "source_hidden": true
    }
   },
   "outputs": [],
   "source": [
    "# Initialize stratified split\n",
    "sss = StratifiedShuffleSplit(n_splits=1, test_size=0.3, random_state=42)\n",
    "\n",
    "for train_index, test_index in sss.split(X, y):\n",
    "    X_train, X_test = X.iloc[train_index], X.iloc[test_index]\n",
    "    y_train, y_test = y.iloc[train_index], y.iloc[test_index]\n",
    "\n",
    "# Apply SMOTE to oversample the training data\n",
    "smote = SMOTE(random_state=42)\n",
    "X_train_res, y_train_res = smote.fit_resample(X_train, y_train)"
   ]
  },
  {
   "cell_type": "code",
   "execution_count": 4,
   "id": "d56e0494-7019-4192-980e-414f70fdaa4f",
   "metadata": {
    "jupyter": {
     "source_hidden": true
    }
   },
   "outputs": [],
   "source": [
    "# Define models with default parameters\n",
    "default_models = {\n",
    "    'Random Forest': RandomForestClassifier(random_state=42),\n",
    "    'XGBoost': XGBClassifier(random_state=42),\n",
    "    'Neural Network': MLPClassifier(random_state=42, max_iter=350)\n",
    "}\n",
    "\n",
    "# Train and evaluate default models\n",
    "default_trained_models = {}\n",
    "default_y_preds = {}\n",
    "default_y_probas = {}\n",
    "\n",
    "for name, model in default_models.items():\n",
    "    model.fit(X_train_res, y_train_res)\n",
    "    default_y_preds[name] = model.predict(X_test)\n",
    "    if hasattr(model, \"predict_proba\"):\n",
    "        default_y_probas[name] = model.predict_proba(X_test)\n",
    "    default_trained_models[name] = model"
   ]
  },
  {
   "cell_type": "code",
   "execution_count": 5,
   "id": "baa5f290-f46a-4929-ba28-25a93b10e919",
   "metadata": {},
   "outputs": [
    {
     "name": "stdout",
     "output_type": "stream",
     "text": [
      "Best parameters for Random Forest: {'max_depth': 25, 'min_samples_split': 2, 'n_estimators': 100}\n",
      "Best parameters for XGBoost: {'learning_rate': 0.2, 'max_depth': 7, 'n_estimators': 250, 'subsample': 0.9}\n"
     ]
    },
    {
     "name": "stderr",
     "output_type": "stream",
     "text": [
      "/home/oussama/anaconda3/envs/notebook/lib/python3.11/site-packages/sklearn/neural_network/_multilayer_perceptron.py:691: ConvergenceWarning: Stochastic Optimizer: Maximum iterations (350) reached and the optimization hasn't converged yet.\n",
      "  warnings.warn(\n",
      "/home/oussama/anaconda3/envs/notebook/lib/python3.11/site-packages/sklearn/neural_network/_multilayer_perceptron.py:691: ConvergenceWarning: Stochastic Optimizer: Maximum iterations (350) reached and the optimization hasn't converged yet.\n",
      "  warnings.warn(\n",
      "/home/oussama/anaconda3/envs/notebook/lib/python3.11/site-packages/sklearn/neural_network/_multilayer_perceptron.py:691: ConvergenceWarning: Stochastic Optimizer: Maximum iterations (350) reached and the optimization hasn't converged yet.\n",
      "  warnings.warn(\n",
      "/home/oussama/anaconda3/envs/notebook/lib/python3.11/site-packages/sklearn/neural_network/_multilayer_perceptron.py:691: ConvergenceWarning: Stochastic Optimizer: Maximum iterations (350) reached and the optimization hasn't converged yet.\n",
      "  warnings.warn(\n",
      "/home/oussama/anaconda3/envs/notebook/lib/python3.11/site-packages/sklearn/neural_network/_multilayer_perceptron.py:691: ConvergenceWarning: Stochastic Optimizer: Maximum iterations (350) reached and the optimization hasn't converged yet.\n",
      "  warnings.warn(\n",
      "/home/oussama/anaconda3/envs/notebook/lib/python3.11/site-packages/sklearn/neural_network/_multilayer_perceptron.py:691: ConvergenceWarning: Stochastic Optimizer: Maximum iterations (350) reached and the optimization hasn't converged yet.\n",
      "  warnings.warn(\n",
      "/home/oussama/anaconda3/envs/notebook/lib/python3.11/site-packages/sklearn/neural_network/_multilayer_perceptron.py:691: ConvergenceWarning: Stochastic Optimizer: Maximum iterations (350) reached and the optimization hasn't converged yet.\n",
      "  warnings.warn(\n",
      "/home/oussama/anaconda3/envs/notebook/lib/python3.11/site-packages/sklearn/neural_network/_multilayer_perceptron.py:691: ConvergenceWarning: Stochastic Optimizer: Maximum iterations (350) reached and the optimization hasn't converged yet.\n",
      "  warnings.warn(\n",
      "/home/oussama/anaconda3/envs/notebook/lib/python3.11/site-packages/sklearn/neural_network/_multilayer_perceptron.py:691: ConvergenceWarning: Stochastic Optimizer: Maximum iterations (350) reached and the optimization hasn't converged yet.\n",
      "  warnings.warn(\n",
      "/home/oussama/anaconda3/envs/notebook/lib/python3.11/site-packages/sklearn/neural_network/_multilayer_perceptron.py:691: ConvergenceWarning: Stochastic Optimizer: Maximum iterations (350) reached and the optimization hasn't converged yet.\n",
      "  warnings.warn(\n",
      "/home/oussama/anaconda3/envs/notebook/lib/python3.11/site-packages/sklearn/neural_network/_multilayer_perceptron.py:691: ConvergenceWarning: Stochastic Optimizer: Maximum iterations (350) reached and the optimization hasn't converged yet.\n",
      "  warnings.warn(\n",
      "/home/oussama/anaconda3/envs/notebook/lib/python3.11/site-packages/sklearn/neural_network/_multilayer_perceptron.py:691: ConvergenceWarning: Stochastic Optimizer: Maximum iterations (350) reached and the optimization hasn't converged yet.\n",
      "  warnings.warn(\n",
      "/home/oussama/anaconda3/envs/notebook/lib/python3.11/site-packages/sklearn/neural_network/_multilayer_perceptron.py:691: ConvergenceWarning: Stochastic Optimizer: Maximum iterations (350) reached and the optimization hasn't converged yet.\n",
      "  warnings.warn(\n",
      "/home/oussama/anaconda3/envs/notebook/lib/python3.11/site-packages/sklearn/neural_network/_multilayer_perceptron.py:691: ConvergenceWarning: Stochastic Optimizer: Maximum iterations (350) reached and the optimization hasn't converged yet.\n",
      "  warnings.warn(\n",
      "/home/oussama/anaconda3/envs/notebook/lib/python3.11/site-packages/sklearn/neural_network/_multilayer_perceptron.py:691: ConvergenceWarning: Stochastic Optimizer: Maximum iterations (350) reached and the optimization hasn't converged yet.\n",
      "  warnings.warn(\n",
      "/home/oussama/anaconda3/envs/notebook/lib/python3.11/site-packages/sklearn/neural_network/_multilayer_perceptron.py:691: ConvergenceWarning: Stochastic Optimizer: Maximum iterations (350) reached and the optimization hasn't converged yet.\n",
      "  warnings.warn(\n",
      "/home/oussama/anaconda3/envs/notebook/lib/python3.11/site-packages/sklearn/neural_network/_multilayer_perceptron.py:691: ConvergenceWarning: Stochastic Optimizer: Maximum iterations (350) reached and the optimization hasn't converged yet.\n",
      "  warnings.warn(\n",
      "/home/oussama/anaconda3/envs/notebook/lib/python3.11/site-packages/sklearn/neural_network/_multilayer_perceptron.py:691: ConvergenceWarning: Stochastic Optimizer: Maximum iterations (350) reached and the optimization hasn't converged yet.\n",
      "  warnings.warn(\n",
      "/home/oussama/anaconda3/envs/notebook/lib/python3.11/site-packages/sklearn/neural_network/_multilayer_perceptron.py:691: ConvergenceWarning: Stochastic Optimizer: Maximum iterations (350) reached and the optimization hasn't converged yet.\n",
      "  warnings.warn(\n",
      "/home/oussama/anaconda3/envs/notebook/lib/python3.11/site-packages/sklearn/neural_network/_multilayer_perceptron.py:691: ConvergenceWarning: Stochastic Optimizer: Maximum iterations (350) reached and the optimization hasn't converged yet.\n",
      "  warnings.warn(\n",
      "/home/oussama/anaconda3/envs/notebook/lib/python3.11/site-packages/sklearn/neural_network/_multilayer_perceptron.py:691: ConvergenceWarning: Stochastic Optimizer: Maximum iterations (350) reached and the optimization hasn't converged yet.\n",
      "  warnings.warn(\n",
      "/home/oussama/anaconda3/envs/notebook/lib/python3.11/site-packages/sklearn/neural_network/_multilayer_perceptron.py:691: ConvergenceWarning: Stochastic Optimizer: Maximum iterations (350) reached and the optimization hasn't converged yet.\n",
      "  warnings.warn(\n",
      "/home/oussama/anaconda3/envs/notebook/lib/python3.11/site-packages/sklearn/neural_network/_multilayer_perceptron.py:691: ConvergenceWarning: Stochastic Optimizer: Maximum iterations (350) reached and the optimization hasn't converged yet.\n",
      "  warnings.warn(\n",
      "/home/oussama/anaconda3/envs/notebook/lib/python3.11/site-packages/sklearn/neural_network/_multilayer_perceptron.py:691: ConvergenceWarning: Stochastic Optimizer: Maximum iterations (350) reached and the optimization hasn't converged yet.\n",
      "  warnings.warn(\n",
      "/home/oussama/anaconda3/envs/notebook/lib/python3.11/site-packages/sklearn/neural_network/_multilayer_perceptron.py:691: ConvergenceWarning: Stochastic Optimizer: Maximum iterations (350) reached and the optimization hasn't converged yet.\n",
      "  warnings.warn(\n",
      "/home/oussama/anaconda3/envs/notebook/lib/python3.11/site-packages/sklearn/neural_network/_multilayer_perceptron.py:691: ConvergenceWarning: Stochastic Optimizer: Maximum iterations (350) reached and the optimization hasn't converged yet.\n",
      "  warnings.warn(\n",
      "/home/oussama/anaconda3/envs/notebook/lib/python3.11/site-packages/sklearn/neural_network/_multilayer_perceptron.py:691: ConvergenceWarning: Stochastic Optimizer: Maximum iterations (350) reached and the optimization hasn't converged yet.\n",
      "  warnings.warn(\n",
      "/home/oussama/anaconda3/envs/notebook/lib/python3.11/site-packages/sklearn/neural_network/_multilayer_perceptron.py:691: ConvergenceWarning: Stochastic Optimizer: Maximum iterations (350) reached and the optimization hasn't converged yet.\n",
      "  warnings.warn(\n",
      "/home/oussama/anaconda3/envs/notebook/lib/python3.11/site-packages/sklearn/neural_network/_multilayer_perceptron.py:691: ConvergenceWarning: Stochastic Optimizer: Maximum iterations (350) reached and the optimization hasn't converged yet.\n",
      "  warnings.warn(\n",
      "/home/oussama/anaconda3/envs/notebook/lib/python3.11/site-packages/sklearn/neural_network/_multilayer_perceptron.py:691: ConvergenceWarning: Stochastic Optimizer: Maximum iterations (350) reached and the optimization hasn't converged yet.\n",
      "  warnings.warn(\n",
      "/home/oussama/anaconda3/envs/notebook/lib/python3.11/site-packages/sklearn/neural_network/_multilayer_perceptron.py:691: ConvergenceWarning: Stochastic Optimizer: Maximum iterations (350) reached and the optimization hasn't converged yet.\n",
      "  warnings.warn(\n",
      "/home/oussama/anaconda3/envs/notebook/lib/python3.11/site-packages/sklearn/neural_network/_multilayer_perceptron.py:691: ConvergenceWarning: Stochastic Optimizer: Maximum iterations (350) reached and the optimization hasn't converged yet.\n",
      "  warnings.warn(\n",
      "/home/oussama/anaconda3/envs/notebook/lib/python3.11/site-packages/sklearn/neural_network/_multilayer_perceptron.py:691: ConvergenceWarning: Stochastic Optimizer: Maximum iterations (350) reached and the optimization hasn't converged yet.\n",
      "  warnings.warn(\n",
      "/home/oussama/anaconda3/envs/notebook/lib/python3.11/site-packages/sklearn/neural_network/_multilayer_perceptron.py:691: ConvergenceWarning: Stochastic Optimizer: Maximum iterations (350) reached and the optimization hasn't converged yet.\n",
      "  warnings.warn(\n",
      "/home/oussama/anaconda3/envs/notebook/lib/python3.11/site-packages/sklearn/neural_network/_multilayer_perceptron.py:691: ConvergenceWarning: Stochastic Optimizer: Maximum iterations (350) reached and the optimization hasn't converged yet.\n",
      "  warnings.warn(\n"
     ]
    },
    {
     "name": "stdout",
     "output_type": "stream",
     "text": [
      "Best parameters for Neural Network: {'activation': 'tanh', 'hidden_layer_sizes': (50, 50), 'solver': 'adam'}\n"
     ]
    }
   ],
   "source": [
    "# Hyperparameter tuning for best parameters\n",
    "refined_param_grids = {\n",
    "    'Random Forest': {\n",
    "        'max_depth': [15, 20, 25],\n",
    "        'min_samples_split': [2, 3, 4],\n",
    "        'n_estimators': [100, 150, 200]\n",
    "    },\n",
    "    'XGBoost': {\n",
    "        'learning_rate': [0.15, 0.2, 0.25],\n",
    "        'max_depth': [5, 6, 7],\n",
    "        'n_estimators': [150, 200, 250],\n",
    "        'subsample': [0.9, 1.0]\n",
    "    },\n",
    "    'Neural Network': {\n",
    "        'activation': ['tanh', 'relu'],\n",
    "        'hidden_layer_sizes': [(50, 50), (100,)],\n",
    "        'solver': ['adam', 'sgd']\n",
    "    }\n",
    "}\n",
    "\n",
    "best_models = {}\n",
    "for name, model in default_models.items():\n",
    "    grid_search = GridSearchCV(estimator=model, param_grid=refined_param_grids[name], cv=5, scoring='accuracy', n_jobs=-1)\n",
    "    grid_search.fit(X_train_res, y_train_res)\n",
    "    best_models[name] = grid_search.best_estimator_\n",
    "    print(f\"Best parameters for {name}: {grid_search.best_params_}\")"
   ]
  },
  {
   "cell_type": "code",
   "execution_count": 6,
   "id": "6996da36-8cb9-49a4-a88e-5b2703b5fe3f",
   "metadata": {},
   "outputs": [],
   "source": [
    "# Train and evaluate best models\n",
    "best_trained_models = {}\n",
    "best_y_preds = {}\n",
    "best_y_probas = {}\n",
    "\n",
    "for name, model in best_models.items():\n",
    "    model.fit(X_train_res, y_train_res)\n",
    "    best_y_preds[name] = model.predict(X_test)\n",
    "    if hasattr(model, \"predict_proba\"):\n",
    "        best_y_probas[name] = model.predict_proba(X_test)\n",
    "    best_trained_models[name] = model"
   ]
  },
  {
   "cell_type": "code",
   "execution_count": 7,
   "id": "1a2d0f2f-510f-4f85-8db6-dd02cc22b5ae",
   "metadata": {
    "jupyter": {
     "source_hidden": true
    },
    "scrolled": true
   },
   "outputs": [
    {
     "data": {
      "application/vnd.jupyter.widget-view+json": {
       "model_id": "044932af2762441abed84789226969a4",
       "version_major": 2,
       "version_minor": 0
      },
      "text/plain": [
       "interactive(children=(Dropdown(description='Model:', options=('Random Forest', 'XGBoost', 'Neural Network'), v…"
      ]
     },
     "metadata": {},
     "output_type": "display_data"
    },
    {
     "data": {
      "text/plain": [
       "<function __main__.display_plots(model_name, plot_type, model_type)>"
      ]
     },
     "execution_count": 7,
     "metadata": {},
     "output_type": "execute_result"
    }
   ],
   "source": [
    "# Plot functions\n",
    "def plot_confusion_matrix(y_test, y_pred, model_name):\n",
    "    cm = confusion_matrix(y_test, y_pred)\n",
    "    plt.figure(figsize=(10, 7))\n",
    "    sns.heatmap(cm, annot=True, fmt='d', cmap='Blues', xticklabels=['No failure', 'Failure'], yticklabels=['No failure', 'Failure'])\n",
    "    plt.xlabel('Predicted')\n",
    "    plt.ylabel('Actual')\n",
    "    plt.title(f'Confusion Matrix - {model_name}')\n",
    "    plt.show()\n",
    "\n",
    "def plot_roc_curve(y_test, y_proba, model_name):\n",
    "    fpr, tpr, _ = roc_curve(y_test, y_proba[:, 1])\n",
    "    roc_auc = auc(fpr, tpr)\n",
    "    plt.figure(figsize=(10, 7))\n",
    "    plt.plot(fpr, tpr, color='blue', lw=2, label='ROC curve (area = %0.2f)' % roc_auc)\n",
    "    plt.plot([0, 1], [0, 1], color='gray', lw=2, linestyle='--')\n",
    "    plt.xlim([0.0, 1.0])\n",
    "    plt.ylim([0.0, 1.05])\n",
    "    plt.xlabel('False Positive Rate')\n",
    "    plt.ylabel('True Positive Rate')\n",
    "    plt.title(f'Receiver Operating Characteristic - {model_name}')\n",
    "    plt.legend(loc=\"lower right\")\n",
    "    plt.show()\n",
    "\n",
    "def plot_precision_recall_curve(y_test, y_proba, model_name):\n",
    "    precision, recall, _ = precision_recall_curve(y_test, y_proba[:, 1])\n",
    "    pr_auc = auc(recall, precision)\n",
    "    plt.figure(figsize=(10, 7))\n",
    "    plt.plot(recall, precision, color='blue', lw=2, label='Precision-Recall curve (area = %0.2f)' % pr_auc)\n",
    "    plt.xlim([0.0, 1.0])\n",
    "    plt.ylim([0.0, 1.05])\n",
    "    plt.xlabel('Recall')\n",
    "    plt.ylabel('Precision')\n",
    "    plt.title(f'Precision-Recall Curve - {model_name}')\n",
    "    plt.legend(loc=\"lower left\")\n",
    "    plt.show()\n",
    "\n",
    "def plot_metrics(y_test, y_pred, model_name):\n",
    "    accuracy = accuracy_score(y_test, y_pred)\n",
    "    precision = precision_score(y_test, y_pred, average='weighted')\n",
    "    recall = recall_score(y_test, y_pred, average='weighted')\n",
    "    f1 = f1_score(y_test, y_pred, average='weighted')\n",
    "    \n",
    "    metrics = {'Accuracy': accuracy, 'Precision': precision, 'Recall': recall, 'F1 Score': f1}\n",
    "    plt.figure(figsize=(10, 7))\n",
    "    bars = plt.bar(metrics.keys(), metrics.values(), color='blue')\n",
    "    plt.xlabel('Metrics')\n",
    "    plt.ylabel('Scores')\n",
    "    plt.ylim([0, 1])\n",
    "    plt.title(f'Metrics - {model_name}')\n",
    "    \n",
    "    # Annotate bars with the metric values\n",
    "    for bar in bars:\n",
    "        yval = bar.get_height()\n",
    "        plt.text(bar.get_x() + bar.get_width()/2, yval, round(yval, 2), va='bottom')  # va: vertical alignment\n",
    "    \n",
    "    plt.show()\n",
    "\n",
    "# Dropdown Menu Function\n",
    "def display_plots(model_name, plot_type, model_type):\n",
    "    if model_type == 'Default':\n",
    "        y_pred = default_y_preds[model_name]\n",
    "        y_proba = default_y_probas[model_name]\n",
    "    elif model_type == 'Best':\n",
    "        y_pred = best_y_preds[model_name]\n",
    "        y_proba = best_y_probas[model_name]\n",
    "    \n",
    "    if plot_type == 'Confusion Matrix':\n",
    "        plot_confusion_matrix(y_test, y_pred, f\"{model_name} ({model_type})\")\n",
    "    elif plot_type == 'ROC Curve':\n",
    "        plot_roc_curve(y_test, y_proba, f\"{model_name} ({model_type})\")\n",
    "    elif plot_type == 'Precision-Recall Curve':\n",
    "        plot_precision_recall_curve(y_test, y_proba, f\"{model_name} ({model_type})\")\n",
    "    elif plot_type == 'Metrics':\n",
    "        plot_metrics(y_test, y_pred, f\"{model_name} ({model_type})\")\n",
    "\n",
    "# Create Dropdown Widgets\n",
    "model_dropdown = widgets.Dropdown(options=list(default_models.keys()), description='Model:')\n",
    "plot_dropdown = widgets.Dropdown(options=['Confusion Matrix', 'ROC Curve', 'Precision-Recall Curve', 'Metrics'], description='Plot Type:')\n",
    "model_type_dropdown = widgets.Dropdown(options=['Default', 'Best'], description='Model Type:')\n",
    "\n",
    "# Display Interactive Widgets\n",
    "interact(display_plots, model_name=model_dropdown, plot_type=plot_dropdown, model_type=model_type_dropdown)"
   ]
  },
  {
   "cell_type": "markdown",
   "id": "d981e45e-285e-4f37-8a6a-ad66cba0fe7c",
   "metadata": {},
   "source": [
    "# Model Explanation: "
   ]
  },
  {
   "cell_type": "code",
   "execution_count": 8,
   "id": "2b80ef8f-4b5c-42f5-9dcf-82c8ce55750d",
   "metadata": {
    "jupyter": {
     "source_hidden": true
    }
   },
   "outputs": [],
   "source": [
    "# Initialize TreeExplainer for Random Forest and XGBoost\n",
    "rf_explainer = shap.TreeExplainer(best_models['Random Forest'], X_train_res)\n",
    "xgb_explainer = shap.TreeExplainer(best_models['XGBoost'], X_train_res)"
   ]
  },
  {
   "cell_type": "code",
   "execution_count": 9,
   "id": "016699d1-e841-4f76-915f-83ff3391e011",
   "metadata": {
    "jupyter": {
     "source_hidden": true
    }
   },
   "outputs": [
    {
     "name": "stderr",
     "output_type": "stream",
     "text": [
      "100%|===================| 13505/13526 [02:09<00:00]        "
     ]
    }
   ],
   "source": [
    "# Compute SHAP values for training data\n",
    "rf_shap_values = rf_explainer.shap_values(X_train_res, check_additivity=False)\n",
    "xgb_shap_values = xgb_explainer.shap_values(X_train_res, check_additivity=False)"
   ]
  },
  {
   "cell_type": "code",
   "execution_count": 10,
   "id": "d531b65e-e8d2-45f6-a4e9-96350bdd09ba",
   "metadata": {
    "jupyter": {
     "source_hidden": true
    }
   },
   "outputs": [],
   "source": [
    "# List of feature names\n",
    "features = X_train_res.columns.tolist()"
   ]
  },
  {
   "cell_type": "code",
   "execution_count": 19,
   "id": "3da68609-7bf8-4175-a405-d4cb37f17383",
   "metadata": {},
   "outputs": [],
   "source": [
    "# Function to plot SHAP summary plots\n",
    "def plot_shap_summary(model_name,class_index):\n",
    "    plt.figure()\n",
    "    if model_name == 'Random Forest':\n",
    "        shap.summary_plot(rf_shap_values[:, :, class_index], X_train_res, feature_names=features)\n",
    "    elif model_name == 'XGBoost':\n",
    "        shap.summary_plot(xgb_shap_values, X_train_res, feature_names=features)\n",
    "    plt.show()"
   ]
  },
  {
   "cell_type": "code",
   "execution_count": 20,
   "id": "f7ede074-71f9-4ae4-ad83-7575f5b94f90",
   "metadata": {},
   "outputs": [
    {
     "data": {
      "application/vnd.jupyter.widget-view+json": {
       "model_id": "f664c91205b548a6946d2cf78f5dfd81",
       "version_major": 2,
       "version_minor": 0
      },
      "text/plain": [
       "interactive(children=(Dropdown(description='Model:', options=('Random Forest', 'XGBoost'), value='Random Fores…"
      ]
     },
     "metadata": {},
     "output_type": "display_data"
    },
    {
     "data": {
      "text/plain": [
       "<function __main__.plot_shap_summary(model_name, class_index)>"
      ]
     },
     "execution_count": 20,
     "metadata": {},
     "output_type": "execute_result"
    }
   ],
   "source": [
    "# Create dropdown widgets\n",
    "model_dropdown = widgets.Dropdown(options=['Random Forest', 'XGBoost'], description='Model:')\n",
    "class_dropdown = widgets.Dropdown(options=[0, 1], description='Class (RF):')\n",
    "# Display interactive widgets for SHAP summary plots\n",
    "interact(plot_shap_summary, model_name=model_dropdown, class_index=class_dropdown)"
   ]
  },
  {
   "cell_type": "code",
   "execution_count": 24,
   "id": "172214b2-5166-4668-a2e5-0f7a5d3dad72",
   "metadata": {},
   "outputs": [
    {
     "data": {
      "application/vnd.jupyter.widget-view+json": {
       "model_id": "9fc81fc75f164ef186ab520811590eda",
       "version_major": 2,
       "version_minor": 0
      },
      "text/plain": [
       "interactive(children=(Dropdown(description='Model:', options=('Random Forest', 'XGBoost'), value='Random Fores…"
      ]
     },
     "metadata": {},
     "output_type": "display_data"
    },
    {
     "data": {
      "text/plain": [
       "<function __main__.plot_shap_dependence(model_name, interaction_feature)>"
      ]
     },
     "execution_count": 24,
     "metadata": {},
     "output_type": "execute_result"
    }
   ],
   "source": [
    "def plot_shap_dependence(model_name, interaction_feature):\n",
    "    # Define the number of columns for the grid\n",
    "    n_cols = 3\n",
    "    n_rows = (len(features) + n_cols - 1) // n_cols  # Compute the number of rows needed\n",
    "\n",
    "    # Plot SHAP dependence plots for the selected model\n",
    "    if model_name == 'Random Forest':\n",
    "        shap_values = rf_shap_values[:, :,1]\n",
    "    elif model_name == 'XGBoost':\n",
    "        shap_values = xgb_shap_values\n",
    "    else:\n",
    "        return\n",
    "\n",
    "    fig, axes = plt.subplots(n_rows, n_cols, figsize=(20, n_rows * 5))\n",
    "    axes = axes.flatten()\n",
    "\n",
    "    for i, feature in enumerate(features):\n",
    "        shap.dependence_plot(feature, shap_values, X_train_res, interaction_index=interaction_feature if interaction_feature != 'auto' else None, ax=axes[i], show=False)\n",
    "        axes[i].set_title(f'{model_name} SHAP Dependence for {feature}')\n",
    "\n",
    "    # Remove any empty subplots\n",
    "    for j in range(i + 1, n_rows * n_cols):\n",
    "        fig.delaxes(axes[j])\n",
    "\n",
    "    plt.tight_layout()\n",
    "    plt.show()\n",
    "\n",
    "# Create dropdown widgets\n",
    "model_dropdown = widgets.Dropdown(options=['Random Forest', 'XGBoost'], description='Model:')\n",
    "interaction_feature_dropdown = widgets.Dropdown(options=['auto'] + features, description='Interact:')\n",
    "# Display interactive widgets\n",
    "interact(plot_shap_dependence, model_name=model_dropdown, interaction_feature=interaction_feature_dropdown)"
   ]
  },
  {
   "cell_type": "code",
   "execution_count": null,
   "id": "fe9489ee-2ae0-410a-982d-11405e9a7015",
   "metadata": {},
   "outputs": [],
   "source": []
  }
 ],
 "metadata": {
  "kernelspec": {
   "display_name": "Python 3 (ipykernel)",
   "language": "python",
   "name": "python3"
  },
  "language_info": {
   "codemirror_mode": {
    "name": "ipython",
    "version": 3
   },
   "file_extension": ".py",
   "mimetype": "text/x-python",
   "name": "python",
   "nbconvert_exporter": "python",
   "pygments_lexer": "ipython3",
   "version": "3.11.7"
  }
 },
 "nbformat": 4,
 "nbformat_minor": 5
}
